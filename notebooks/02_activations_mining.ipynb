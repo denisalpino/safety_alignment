{
 "cells": [
  {
   "cell_type": "code",
   "execution_count": 1,
   "id": "5de22c51",
   "metadata": {},
   "outputs": [],
   "source": [
    "from pathlib import Path\n",
    "import pickle\n",
    "import sys\n",
    "import warnings\n",
    "\n",
    "warnings.simplefilter(action='ignore', category=FutureWarning)\n",
    "\n",
    "project_root = str(Path().resolve().parent)\n",
    "sys.path.insert(0, project_root)"
   ]
  },
  {
   "cell_type": "code",
   "execution_count": 2,
   "id": "ac5681f2",
   "metadata": {},
   "outputs": [],
   "source": [
    "import pandas as pd\n",
    "import torch\n",
    "from transformers import AutoTokenizer, AutoModelForCausalLM\n",
    "\n",
    "from src.embed import embed"
   ]
  },
  {
   "cell_type": "code",
   "execution_count": 3,
   "id": "027f7fcf",
   "metadata": {},
   "outputs": [
    {
     "name": "stdout",
     "output_type": "stream",
     "text": [
      "cuda device is available\n"
     ]
    }
   ],
   "source": [
    "MODEL_ID = \"AlphaGaO/Qwen3-4B-GPTQ\"\n",
    "DATASET_PATH = f\"{project_root}/data/dataset.csv\"\n",
    "HIDDEN_STATES_PATH = f\"{project_root}/data/activations/layer20.pkl\"\n",
    "MAX_LEN = 768\n",
    "KV_CAHCE_SIZE = 896\n",
    "LAYERS = [19, 20]\n",
    "\n",
    "if torch.cuda.is_available():\n",
    "    DEVICE = torch.device(\"cuda\")\n",
    "    MAPPING = \"cuda:0\"\n",
    "else:\n",
    "    DEVICE = torch.device(\"cpu\")\n",
    "    MAPPING = \"auto\"\n",
    "print(\"{} device is available\".format(DEVICE))"
   ]
  },
  {
   "cell_type": "code",
   "execution_count": 4,
   "id": "2fe47944",
   "metadata": {},
   "outputs": [
    {
     "name": "stderr",
     "output_type": "stream",
     "text": [
      "CUDA extension not installed.\n",
      "CUDA extension not installed.\n",
      "`loss_type=None` was set in the config but it is unrecognized. Using the default loss: `ForCausalLMLoss`.\n"
     ]
    }
   ],
   "source": [
    "tokenizer = AutoTokenizer.from_pretrained(MODEL_ID, use_fast=True\n",
    ")\n",
    "model = AutoModelForCausalLM.from_pretrained(\n",
    "    MODEL_ID,\n",
    "    device_map=MAPPING,\n",
    "    dtype=torch.float16,\n",
    "    attn_implementation=\"flash_attention_2\"\n",
    ").eval().to(DEVICE)\n",
    "texts = pd.read_csv(DATASET_PATH).prompt.tolist()"
   ]
  },
  {
   "cell_type": "code",
   "execution_count": 5,
   "id": "6aa9804c",
   "metadata": {},
   "outputs": [
    {
     "data": {
      "application/vnd.jupyter.widget-view+json": {
       "model_id": "8d3ff8ee4a73491bbc53cccde8e0af33",
       "version_major": 2,
       "version_minor": 0
      },
      "text/plain": [
       "Processing batches:   0%|          | 0/294 [00:00<?, ?it/s]"
      ]
     },
     "metadata": {},
     "output_type": "display_data"
    }
   ],
   "source": [
    "hidden_states = embed(\n",
    "    texts,\n",
    "    model, tokenizer,\n",
    "    layers=LAYERS,\n",
    "    kv_cache_size=KV_CAHCE_SIZE, max_length=MAX_LEN\n",
    ")"
   ]
  },
  {
   "cell_type": "markdown",
   "id": "9e42fcac",
   "metadata": {},
   "source": [
    "Transform the cumulative embeddings (activations + residual connections) of successive layers into pure activation increments by subtracting the previous layer from each layer and discarding the initial first layer, since there is no difference for it."
   ]
  },
  {
   "cell_type": "code",
   "execution_count": 6,
   "id": "16ca2d68",
   "metadata": {},
   "outputs": [],
   "source": [
    "activations = []\n",
    "\n",
    "for text_result in hidden_states:\n",
    "    # Process consecutive layers starting from the second one\n",
    "    for i in range(1, len(LAYERS)):\n",
    "        current_layer = LAYERS[i]\n",
    "        prev_layer = LAYERS[i-1]\n",
    "\n",
    "        # Subtract previous layer from current layer\n",
    "        current_tensor = text_result[current_layer].to(torch.float16)\n",
    "        prev_tensor = text_result[prev_layer].to(torch.float16)\n",
    "\n",
    "        activation = current_tensor - prev_tensor\n",
    "        activations.append(activation)"
   ]
  },
  {
   "cell_type": "markdown",
   "id": "178128f7",
   "metadata": {},
   "source": [
    "Let's examine the total volume of tokens processed"
   ]
  },
  {
   "cell_type": "code",
   "execution_count": 7,
   "id": "a283d967",
   "metadata": {},
   "outputs": [
    {
     "name": "stdout",
     "output_type": "stream",
     "text": [
      "A total of 263,123 tokens were processed!\n"
     ]
    }
   ],
   "source": [
    "num_tokns = sum(list(text_dct.values())[0].shape[0] for text_dct in hidden_states)\n",
    "print(f\"A total of {num_tokns:,} tokens were processed!\")"
   ]
  },
  {
   "cell_type": "markdown",
   "id": "0e8915a9",
   "metadata": {},
   "source": [
    "Simply save obtained hidden states to restore definitely current data structure later"
   ]
  },
  {
   "cell_type": "code",
   "execution_count": null,
   "id": "04765326",
   "metadata": {},
   "outputs": [],
   "source": [
    "with open(HIDDEN_STATES_PATH, 'wb') as f:\n",
    "    pickle.dump(activations, f)"
   ]
  }
 ],
 "metadata": {
  "kernelspec": {
   "display_name": ".venv",
   "language": "python",
   "name": "python3"
  },
  "language_info": {
   "codemirror_mode": {
    "name": "ipython",
    "version": 3
   },
   "file_extension": ".py",
   "mimetype": "text/x-python",
   "name": "python",
   "nbconvert_exporter": "python",
   "pygments_lexer": "ipython3",
   "version": "3.10.18"
  }
 },
 "nbformat": 4,
 "nbformat_minor": 5
}
