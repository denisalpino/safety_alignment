{
 "cells": [
  {
   "cell_type": "code",
   "execution_count": null,
   "metadata": {},
   "outputs": [],
   "source": [
    "import gc\n",
    "from pathlib import Path\n",
    "import pickle\n",
    "import sys\n",
    "import warnings\n",
    "\n",
    "warnings.simplefilter(action='ignore', category=FutureWarning)\n",
    "\n",
    "project_root = str(Path().resolve().parent)\n",
    "sys.path.insert(0, project_root)"
   ]
  },
  {
   "cell_type": "code",
   "execution_count": null,
   "metadata": {},
   "outputs": [],
   "source": [
    "import pandas as pd\n",
    "import torch\n",
    "from transformers import AutoTokenizer, AutoModelForCausalLM\n",
    "\n",
    "from src.prep.embed import embed\n",
    "from src.prep.tokenization import tokenize"
   ]
  },
  {
   "cell_type": "code",
   "execution_count": null,
   "metadata": {},
   "outputs": [],
   "source": [
    "MODEL_ID = \"AlphaGaO/Qwen3-4B-GPTQ\"\n",
    "DATASET_PATH = f\"{project_root}/data/dataset.csv\"\n",
    "TOKENS_PATH = f\"{project_root}/data/tokens.pkl\"\n",
    "HIDDEN_STATES_PATH = \"{project_root}/data/activations/layer{num}.pkl\"\n",
    "MAX_LEN = 768\n",
    "KV_CAHCE_SIZE = 896\n",
    "LAYERS = [35, 36]\n",
    "\n",
    "if torch.cuda.is_available():\n",
    "    DEVICE = torch.device(\"cuda\")\n",
    "    MAPPING = \"cuda:0\"\n",
    "else:\n",
    "    DEVICE = torch.device(\"cpu\")\n",
    "    MAPPING = \"auto\"\n",
    "\n",
    "print(\"{} device is available\".format(DEVICE))"
   ]
  },
  {
   "cell_type": "code",
   "execution_count": null,
   "metadata": {},
   "outputs": [],
   "source": [
    "tokenizer = AutoTokenizer.from_pretrained(MODEL_ID, use_fast=True)\n",
    "\n",
    "model = AutoModelForCausalLM.from_pretrained(\n",
    "    MODEL_ID,\n",
    "    device_map=MAPPING,\n",
    "    dtype=torch.float16,\n",
    "    attn_implementation=\"flash_attention_2\"\n",
    ").eval().to(DEVICE)\n",
    "\n",
    "texts = pd.read_csv(DATASET_PATH).prompt.tolist()"
   ]
  },
  {
   "cell_type": "code",
   "execution_count": null,
   "metadata": {},
   "outputs": [],
   "source": [
    "hidden_states = embed(\n",
    "    texts,\n",
    "    model, tokenizer,\n",
    "    layers=LAYERS,\n",
    "    kv_cache_size=KV_CAHCE_SIZE, max_length=MAX_LEN\n",
    ")"
   ]
  },
  {
   "cell_type": "markdown",
   "metadata": {},
   "source": [
    "Transform the cumulative embeddings (activations + residual connections) of successive layers into pure activation increments by subtracting the previous layer from each layer and discarding the initial first layer, since there is no difference for it."
   ]
  },
  {
   "cell_type": "code",
   "execution_count": null,
   "metadata": {},
   "outputs": [],
   "source": [
    "activations = []\n",
    "\n",
    "for text_result in hidden_states:\n",
    "    # Process consecutive layers starting from the second one\n",
    "    for i in range(1, len(LAYERS)):\n",
    "        current_layer = LAYERS[i]\n",
    "        prev_layer = LAYERS[i-1]\n",
    "\n",
    "        # Subtract previous layer from current layer\n",
    "        current_tensor = text_result[current_layer].to(torch.float16)\n",
    "        prev_tensor = text_result[prev_layer].to(torch.float16)\n",
    "\n",
    "        activation = current_tensor - prev_tensor\n",
    "        activations.append(activation)"
   ]
  },
  {
   "cell_type": "markdown",
   "metadata": {},
   "source": [
    "Release memory from two layers of residual connections so that when saving activations due to overhead costs, no OOM errors occur and, in general, to save memory"
   ]
  },
  {
   "cell_type": "code",
   "execution_count": null,
   "metadata": {},
   "outputs": [],
   "source": [
    "del hidden_states\n",
    "\n",
    "gc.collect()"
   ]
  },
  {
   "cell_type": "markdown",
   "metadata": {},
   "source": [
    "Simply save obtained hidden states to restore definitely current data structure later"
   ]
  },
  {
   "cell_type": "code",
   "execution_count": null,
   "metadata": {},
   "outputs": [],
   "source": [
    "with open(HIDDEN_STATES_PATH.format(project_root=project_root, num=\"36\"), 'wb') as f:\n",
    "    pickle.dump(activations, f)"
   ]
  },
  {
   "cell_type": "markdown",
   "metadata": {},
   "source": [
    "Release memory again, but now only from activations of a single layer"
   ]
  },
  {
   "cell_type": "code",
   "execution_count": null,
   "metadata": {},
   "outputs": [],
   "source": [
    "del activations\n",
    "\n",
    "gc.collect()"
   ]
  },
  {
   "cell_type": "markdown",
   "metadata": {},
   "source": [
    "Split prompts into human-readable tokens using multiprocessing (physical cores only)"
   ]
  },
  {
   "cell_type": "code",
   "execution_count": null,
   "metadata": {},
   "outputs": [],
   "source": [
    "tokens = tokenize(texts, tokenizer, batch_size=4342, on_error='keep', show_progress=True, num_workers=6)"
   ]
  },
  {
   "cell_type": "markdown",
   "metadata": {},
   "source": [
    "As we can see, **~700,000 tokens** were generated.\n",
    "\n",
    "---\n",
    "\n",
    "On the one hand, this is very little for training Sparse Autoencoders, since **billions or even trillions of tokens were used in well-known works** by Anthropic and DeepMind. Moreover, the dimension of the hidden layers in `Qwen3` is 2560 neurons, unlike `GPT-2`-like architectures with 512 neurons that trained Anthropic. Finally, it is worth noting that the data is semantically homogeneous, so the traditional “overcomplete” approach for Sparse Autoencoders can lead to:\n",
    "- excessive sparsity;\n",
    "- a large number of “dead” neurons;\n",
    "- an increased $L_0$ norm;\n",
    "- weak convergence during optimization.\n",
    "\n",
    "However, we can **manually select** only the most significant neurons that will be monosemantic and significantly influence the reconstruction. For a similar group of neurons **data homogeneity can play a positive role**, but **most neurons risk being underfitted**  due to the limited set of concepts that can fit into only ~700,000 tokens."
   ]
  },
  {
   "cell_type": "code",
   "execution_count": null,
   "metadata": {},
   "outputs": [],
   "source": [
    "with open(TOKENS_PATH, 'wb') as f:\n",
    "    pickle.dump(tokens, f)"
   ]
  }
 ],
 "metadata": {
  "kernelspec": {
   "display_name": ".venv",
   "language": "python",
   "name": "python3"
  },
  "language_info": {
   "codemirror_mode": {
    "name": "ipython",
    "version": 3
   },
   "file_extension": ".py",
   "mimetype": "text/x-python",
   "name": "python",
   "nbconvert_exporter": "python",
   "pygments_lexer": "ipython3",
   "version": "3.10.18"
  }
 },
 "nbformat": 4,
 "nbformat_minor": 2
}
